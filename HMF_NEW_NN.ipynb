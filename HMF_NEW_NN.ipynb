{
 "cells": [
  {
   "cell_type": "code",
   "execution_count": 1,
   "metadata": {},
   "outputs": [],
   "source": [
    "import pathlib\n",
    "\n",
    "import matplotlib.pyplot as plt\n",
    "import pandas as pd\n",
    "import seaborn as sns\n",
    "\n",
    "import numpy as np\n",
    "\n",
    "import tensorflow as tf\n",
    "from tensorflow.keras.layers import Dense, Flatten, Conv2D\n",
    "from tensorflow.keras import Model\n",
    "from tensorflow.keras import layers\n",
    "from tensorflow.keras import models\n",
    "from tensorflow.keras import optimizers\n",
    "from tensorflow.keras import losses\n",
    "\n",
    "from sklearn.preprocessing import StandardScaler\n",
    "from sklearn.preprocessing import MinMaxScaler"
   ]
  },
  {
   "cell_type": "code",
   "execution_count": 2,
   "metadata": {},
   "outputs": [
    {
     "data": {
      "text/html": [
       "<div>\n",
       "<style scoped>\n",
       "    .dataframe tbody tr th:only-of-type {\n",
       "        vertical-align: middle;\n",
       "    }\n",
       "\n",
       "    .dataframe tbody tr th {\n",
       "        vertical-align: top;\n",
       "    }\n",
       "\n",
       "    .dataframe thead th {\n",
       "        text-align: right;\n",
       "    }\n",
       "</style>\n",
       "<table border=\"1\" class=\"dataframe\">\n",
       "  <thead>\n",
       "    <tr style=\"text-align: right;\">\n",
       "      <th></th>\n",
       "      <th>log_10(mvir)</th>\n",
       "      <th>n(&gt;M)</th>\n",
       "    </tr>\n",
       "  </thead>\n",
       "  <tbody>\n",
       "    <tr>\n",
       "      <th>0</th>\n",
       "      <td>1.000000e+10</td>\n",
       "      <td>0.254378</td>\n",
       "    </tr>\n",
       "    <tr>\n",
       "      <th>1</th>\n",
       "      <td>1.122018e+10</td>\n",
       "      <td>0.229857</td>\n",
       "    </tr>\n",
       "    <tr>\n",
       "      <th>2</th>\n",
       "      <td>1.258925e+10</td>\n",
       "      <td>0.207706</td>\n",
       "    </tr>\n",
       "    <tr>\n",
       "      <th>3</th>\n",
       "      <td>1.412538e+10</td>\n",
       "      <td>0.187695</td>\n",
       "    </tr>\n",
       "  </tbody>\n",
       "</table>\n",
       "</div>"
      ],
      "text/plain": [
       "   log_10(mvir)     n(>M)\n",
       "0  1.000000e+10  0.254378\n",
       "1  1.122018e+10  0.229857\n",
       "2  1.258925e+10  0.207706\n",
       "3  1.412538e+10  0.187695"
      ]
     },
     "execution_count": 2,
     "metadata": {},
     "output_type": "execute_result"
    }
   ],
   "source": [
    "hmf_new = pd.read_csv('data/HMF_theor.csv')\n",
    "hmf_new = hmf_new.drop(['Unnamed: 0'], axis=1)\n",
    "\n",
    "dataset = hmf_new.copy()\n",
    "\n",
    "x = dataset['log_10(mvir)'].values\n",
    "y = dataset['n(>M)'].values\n",
    "dataset.head(4)\n",
    "\n"
   ]
  },
  {
   "cell_type": "code",
   "execution_count": 3,
   "metadata": {},
   "outputs": [
    {
     "data": {
      "text/html": [
       "<div>\n",
       "<style scoped>\n",
       "    .dataframe tbody tr th:only-of-type {\n",
       "        vertical-align: middle;\n",
       "    }\n",
       "\n",
       "    .dataframe tbody tr th {\n",
       "        vertical-align: top;\n",
       "    }\n",
       "\n",
       "    .dataframe thead th {\n",
       "        text-align: right;\n",
       "    }\n",
       "</style>\n",
       "<table border=\"1\" class=\"dataframe\">\n",
       "  <thead>\n",
       "    <tr style=\"text-align: right;\">\n",
       "      <th></th>\n",
       "      <th>log_10(M200c)</th>\n",
       "      <th>counts</th>\n",
       "      <th>n(&gt;M)</th>\n",
       "    </tr>\n",
       "  </thead>\n",
       "  <tbody>\n",
       "    <tr>\n",
       "      <th>0</th>\n",
       "      <td>10.572196</td>\n",
       "      <td>773</td>\n",
       "      <td>0.028888</td>\n",
       "    </tr>\n",
       "    <tr>\n",
       "      <th>1</th>\n",
       "      <td>10.877562</td>\n",
       "      <td>717</td>\n",
       "      <td>0.022704</td>\n",
       "    </tr>\n",
       "    <tr>\n",
       "      <th>2</th>\n",
       "      <td>11.182927</td>\n",
       "      <td>689</td>\n",
       "      <td>0.016968</td>\n",
       "    </tr>\n",
       "    <tr>\n",
       "      <th>3</th>\n",
       "      <td>11.488293</td>\n",
       "      <td>625</td>\n",
       "      <td>0.011456</td>\n",
       "    </tr>\n",
       "  </tbody>\n",
       "</table>\n",
       "</div>"
      ],
      "text/plain": [
       "   log_10(M200c)  counts     n(>M)\n",
       "0      10.572196     773  0.028888\n",
       "1      10.877562     717  0.022704\n",
       "2      11.182927     689  0.016968\n",
       "3      11.488293     625  0.011456"
      ]
     },
     "execution_count": 3,
     "metadata": {},
     "output_type": "execute_result"
    }
   ],
   "source": [
    "lcdm = pd.read_csv('data/lcdm_counts.dat')\n",
    "#df.drop(['B', 'C'], axis=1)\n",
    "lcdm = lcdm.drop(['Unnamed: 0'], axis = 1)\n",
    "lcdm.head(4)"
   ]
  },
  {
   "cell_type": "code",
   "execution_count": 4,
   "metadata": {},
   "outputs": [
    {
     "data": {
      "text/plain": [
       "(891250938133889.9, 10000000000.0, 0.25437833031965895, 6.889011444267326e-07)"
      ]
     },
     "execution_count": 4,
     "metadata": {},
     "output_type": "execute_result"
    }
   ],
   "source": [
    "# simulacion\n",
    "profile = np.loadtxt('data/mVector_SIMULATION .txt')\n",
    "xsim = profile[:,0]\n",
    "ysim = profile[:,8]\n",
    "max(xsim), min(xsim), max(ysim), min(ysim)"
   ]
  },
  {
   "cell_type": "code",
   "execution_count": 5,
   "metadata": {},
   "outputs": [
    {
     "data": {
      "text/plain": [
       "<matplotlib.collections.PathCollection at 0x7f043ba039d0>"
      ]
     },
     "execution_count": 5,
     "metadata": {},
     "output_type": "execute_result"
    },
    {
     "data": {
      "image/png": "[encoded data removed]",
      "text/plain": [
       "<Figure size 432x288 with 1 Axes>"
      ]
     },
     "metadata": {
      "needs_background": "light"
     },
     "output_type": "display_data"
    }
   ],
   "source": [
    "plt.yscale('log')\n",
    "plt.xscale('log')\n",
    "\n",
    "plt.scatter(hmf_new['log_10(mvir)'], hmf_new['n(>M)'], c = 'purple')"
   ]
  },
  {
   "cell_type": "code",
   "execution_count": 6,
   "metadata": {},
   "outputs": [
    {
     "data": {
      "text/plain": [
       "<seaborn.axisgrid.PairGrid at 0x7f043b914df0>"
      ]
     },
     "execution_count": 6,
     "metadata": {},
     "output_type": "execute_result"
    },
    {
     "data": {
      "image/png": "[encoded data removed]",
      "text/plain": [
       "<Figure size 360x360 with 6 Axes>"
      ]
     },
     "metadata": {
      "needs_background": "light"
     },
     "output_type": "display_data"
    }
   ],
   "source": [
    "sns.pairplot(dataset, diag_kind=\"kde\")"
   ]
  },
  {
   "cell_type": "code",
   "execution_count": 7,
   "metadata": {},
   "outputs": [
    {
     "name": "stdout",
     "output_type": "stream",
     "text": [
      "100 (100, 2)\n"
     ]
    }
   ],
   "source": [
    "print(len(dataset.values), np.shape(dataset.values))\n",
    "randomize = np.random.permutation(len(dataset.values))\n",
    "\n",
    "X = x[randomize]\n",
    "Y = y[randomize]\n",
    "\n",
    "# Define a size for your train set \n",
    "split = 0.8\n",
    "ntrain = int(split * len(X))\n",
    "\n",
    "indx = [ntrain]\n",
    "X_train, X_test = np.split(X, indx)\n",
    "y_train, y_test = np.split(Y, indx)\n",
    "\n",
    "split = 0.5\n",
    "ntrain = int(split * len(X_test))\n",
    "indx = [ntrain]\n",
    "\n",
    "X_test, X_val = np.split(X_test, indx)\n",
    "y_test, y_val = np.split(y_test, indx)"
   ]
  },
  {
   "cell_type": "code",
   "execution_count": 8,
   "metadata": {},
   "outputs": [
    {
     "name": "stdout",
     "output_type": "stream",
     "text": [
      "(10,)\n",
      "(10,)\n",
      "(80,)\n",
      "(80,)\n"
     ]
    }
   ],
   "source": [
    "print(X_test.shape)\n",
    "print(y_test.shape)\n",
    "print(X_train.shape)\n",
    "print(y_train.shape)"
   ]
  },
  {
   "cell_type": "code",
   "execution_count": 9,
   "metadata": {},
   "outputs": [],
   "source": [
    "# xscaler = \n",
    "minx = np.log(np.min(X))\n",
    "maxx = np.log(np.max(X))\n",
    "yscaler = StandardScaler()\n",
    "xscaler = StandardScaler()\n",
    "# # fit scaler on data\n",
    "xscaler.fit(X.reshape(-1,1))\n",
    "yscaler.fit(Y.reshape(-1,1))\n",
    "\n",
    "# # apply transform\n",
    "X_train = xscaler.transform(X_train.reshape(-1,1))\n",
    "X_val = xscaler.transform(X_val.reshape(-1,1))\n",
    "X_test = xscaler.transform(X_test.reshape(-1,1))\n",
    "\n",
    "y_train = yscaler.transform(y_train.reshape(-1,1))\n",
    "y_val = yscaler.transform(y_val.reshape(-1,1))\n",
    "y_test = yscaler.transform(y_test.reshape(-1,1))"
   ]
  },
  {
   "cell_type": "code",
   "execution_count": 10,
   "metadata": {},
   "outputs": [],
   "source": [
    "callbacks = [tf.keras.callbacks.EarlyStopping(monitor='val_loss', mode='min',\n",
    "                                   min_delta=0.0,\n",
    "                                   patience=50.0,\n",
    "                                   restore_best_weights=True)]"
   ]
  },
  {
   "cell_type": "code",
   "execution_count": 32,
   "metadata": {},
   "outputs": [],
   "source": [
    "def ann_model(ninput=1, n_nodes1=100, n_nodes2=100, n_nodes3=100, dropout=0.5):\n",
    "    model = models.Sequential()\n",
    "    model.add(layers.Dense(n_nodes1,activation='selu',input_shape=(ninput,)))\n",
    "#     model.add(layers.Dropout(dropout))\n",
    "    model.add(layers.Dense(n_nodes2,activation='selu'))\n",
    "#     model.add(layers.Dropout(dropout))\n",
    "    model.add(layers.Dense(n_nodes3,activation='selu'))\n",
    "#     model.add(layers.Dense(n_nodes3,activation='relu'))\n",
    "#     model.add(layers.Dense(n_nodes3,activation='relu'))\n",
    "#     model.add(layers.Dropout(dropout))\n",
    "    model.add(layers.Dense(1, activation='linear'))\n",
    "\n",
    "    model.compile(optimizer=optimizers.RMSprop(lr=1e-2),#.Adam(lr=1e-4),\n",
    "                  loss='mse')\n",
    "\n",
    "\n",
    "#     test1_model.summary()\n",
    "    return model"
   ]
  },
  {
   "cell_type": "code",
   "execution_count": 33,
   "metadata": {},
   "outputs": [],
   "source": [
    "dropout = 0.01\n",
    "n_nodes1 = 100\n",
    "n_nodes2 = 100\n",
    "n_nodes3 = 200"
   ]
  },
  {
   "cell_type": "code",
   "execution_count": 34,
   "metadata": {
    "scrolled": true
   },
   "outputs": [
    {
     "name": "stderr",
     "output_type": "stream",
     "text": [
      "/home/isidro/.local/lib/python3.8/site-packages/keras/optimizer_v2/optimizer_v2.py:355: UserWarning: The `lr` argument is deprecated, use `learning_rate` instead.\n",
      "  warnings.warn(\n"
     ]
    },
    {
     "name": "stdout",
     "output_type": "stream",
     "text": [
      "Epoch 1/100\n",
      "80/80 [==============================] - 0s 2ms/step - loss: 8.0916 - val_loss: 3.1554\n",
      "Epoch 2/100\n",
      "80/80 [==============================] - 0s 896us/step - loss: 3.5696 - val_loss: 0.4328\n",
      "Epoch 3/100\n",
      "80/80 [==============================] - 0s 1ms/step - loss: 2.8635 - val_loss: 0.4498\n",
      "Epoch 4/100\n",
      "80/80 [==============================] - 0s 898us/step - loss: 1.4293 - val_loss: 0.5080\n",
      "Epoch 5/100\n",
      "80/80 [==============================] - 0s 996us/step - loss: 1.5488 - val_loss: 0.4237\n",
      "Epoch 6/100\n",
      "80/80 [==============================] - 0s 944us/step - loss: 1.3161 - val_loss: 0.5126\n",
      "Epoch 7/100\n",
      "80/80 [==============================] - 0s 923us/step - loss: 2.7917 - val_loss: 0.5009\n",
      "Epoch 8/100\n",
      "80/80 [==============================] - 0s 896us/step - loss: 1.3531 - val_loss: 0.6400\n",
      "Epoch 9/100\n",
      "80/80 [==============================] - 0s 893us/step - loss: 1.5588 - val_loss: 0.4531\n",
      "Epoch 10/100\n",
      "80/80 [==============================] - 0s 1ms/step - loss: 1.5701 - val_loss: 0.5596\n",
      "Epoch 11/100\n",
      "80/80 [==============================] - 0s 878us/step - loss: 1.3585 - val_loss: 0.6159\n",
      "Epoch 12/100\n",
      "80/80 [==============================] - 0s 872us/step - loss: 2.2364 - val_loss: 0.8939\n",
      "Epoch 13/100\n",
      "80/80 [==============================] - 0s 929us/step - loss: 1.3336 - val_loss: 0.4364\n",
      "Epoch 14/100\n",
      "80/80 [==============================] - 0s 895us/step - loss: 1.4180 - val_loss: 0.8338\n",
      "Epoch 15/100\n",
      "80/80 [==============================] - 0s 888us/step - loss: 1.4602 - val_loss: 0.5110\n",
      "Epoch 16/100\n",
      "80/80 [==============================] - 0s 872us/step - loss: 3.5209 - val_loss: 0.4792\n",
      "Epoch 17/100\n",
      "80/80 [==============================] - 0s 901us/step - loss: 1.4153 - val_loss: 0.5544\n",
      "Epoch 18/100\n",
      "80/80 [==============================] - 0s 896us/step - loss: 1.4454 - val_loss: 0.4242\n",
      "Epoch 19/100\n",
      "80/80 [==============================] - 0s 882us/step - loss: 3.3643 - val_loss: 0.5172\n",
      "Epoch 20/100\n",
      "80/80 [==============================] - 0s 892us/step - loss: 1.3485 - val_loss: 0.9631\n",
      "Epoch 21/100\n",
      "80/80 [==============================] - 0s 894us/step - loss: 1.5179 - val_loss: 0.5554\n",
      "Epoch 22/100\n",
      "80/80 [==============================] - 0s 940us/step - loss: 1.3974 - val_loss: 0.9007\n",
      "Epoch 23/100\n",
      "80/80 [==============================] - 0s 941us/step - loss: 1.4879 - val_loss: 0.4667\n",
      "Epoch 24/100\n",
      "80/80 [==============================] - 0s 889us/step - loss: 1.3739 - val_loss: 24.9050\n",
      "Epoch 25/100\n",
      "80/80 [==============================] - 0s 928us/step - loss: 2.0080 - val_loss: 1.3145\n",
      "Epoch 26/100\n",
      "80/80 [==============================] - 0s 908us/step - loss: 1.4093 - val_loss: 0.8103\n",
      "Epoch 27/100\n",
      "80/80 [==============================] - 0s 1ms/step - loss: 1.5406 - val_loss: 1.5542\n",
      "Epoch 28/100\n",
      "80/80 [==============================] - 0s 881us/step - loss: 1.4234 - val_loss: 0.4949\n",
      "Epoch 29/100\n",
      "80/80 [==============================] - 0s 1ms/step - loss: 1.7105 - val_loss: 0.6792\n",
      "Epoch 30/100\n",
      "80/80 [==============================] - 0s 942us/step - loss: 1.6311 - val_loss: 0.4998\n",
      "Epoch 31/100\n",
      "80/80 [==============================] - 0s 963us/step - loss: 1.5717 - val_loss: 0.4686\n",
      "Epoch 32/100\n",
      "80/80 [==============================] - 0s 1ms/step - loss: 1.4259 - val_loss: 0.5029\n",
      "Epoch 33/100\n",
      "80/80 [==============================] - 0s 1ms/step - loss: 1.4346 - val_loss: 0.4288\n",
      "Epoch 34/100\n",
      "80/80 [==============================] - 0s 1ms/step - loss: 3.7695 - val_loss: 0.5029\n",
      "Epoch 35/100\n",
      "80/80 [==============================] - 0s 932us/step - loss: 1.4030 - val_loss: 0.4675\n",
      "Epoch 36/100\n",
      "80/80 [==============================] - 0s 819us/step - loss: 2.4637 - val_loss: 0.4662\n",
      "Epoch 37/100\n",
      "80/80 [==============================] - 0s 908us/step - loss: 1.3165 - val_loss: 0.5214\n",
      "Epoch 38/100\n",
      "80/80 [==============================] - 0s 963us/step - loss: 1.4215 - val_loss: 0.9084\n",
      "Epoch 39/100\n",
      "80/80 [==============================] - 0s 887us/step - loss: 1.4502 - val_loss: 0.4724\n",
      "Epoch 40/100\n",
      "80/80 [==============================] - 0s 867us/step - loss: 1.3717 - val_loss: 0.7692\n",
      "Epoch 41/100\n",
      "80/80 [==============================] - 0s 1ms/step - loss: 1.4981 - val_loss: 0.8568\n",
      "Epoch 42/100\n",
      "80/80 [==============================] - 0s 998us/step - loss: 1.3595 - val_loss: 0.5256\n",
      "Epoch 43/100\n",
      "80/80 [==============================] - 0s 1ms/step - loss: 1.5683 - val_loss: 0.4200\n",
      "Epoch 44/100\n",
      "80/80 [==============================] - 0s 1ms/step - loss: 1.3328 - val_loss: 0.5038\n",
      "Epoch 45/100\n",
      "80/80 [==============================] - 0s 1ms/step - loss: 2.1181 - val_loss: 0.4218\n",
      "Epoch 46/100\n",
      "80/80 [==============================] - 0s 950us/step - loss: 2.5422 - val_loss: 0.4396\n",
      "Epoch 47/100\n",
      "80/80 [==============================] - 0s 984us/step - loss: 1.4706 - val_loss: 0.4594\n",
      "Epoch 48/100\n",
      "80/80 [==============================] - 0s 882us/step - loss: 1.4907 - val_loss: 1.4920\n",
      "Epoch 49/100\n",
      "80/80 [==============================] - 0s 874us/step - loss: 1.4491 - val_loss: 1.3816\n",
      "Epoch 50/100\n",
      "80/80 [==============================] - 0s 834us/step - loss: 1.6290 - val_loss: 0.6482\n",
      "Epoch 51/100\n",
      "80/80 [==============================] - 0s 817us/step - loss: 1.4482 - val_loss: 0.6691\n",
      "Epoch 52/100\n",
      "80/80 [==============================] - 0s 858us/step - loss: 1.3912 - val_loss: 2.5714\n",
      "Epoch 53/100\n",
      "80/80 [==============================] - 0s 807us/step - loss: 1.3269 - val_loss: 0.5660\n",
      "Epoch 54/100\n",
      "80/80 [==============================] - 0s 850us/step - loss: 1.3739 - val_loss: 0.5020\n",
      "Epoch 55/100\n",
      "80/80 [==============================] - 0s 876us/step - loss: 1.3757 - val_loss: 0.7058\n",
      "Epoch 56/100\n",
      "80/80 [==============================] - 0s 1ms/step - loss: 1.2218 - val_loss: 0.4148\n",
      "Epoch 57/100\n",
      "80/80 [==============================] - 0s 1ms/step - loss: 1.7522 - val_loss: 0.5014\n",
      "Epoch 58/100\n",
      "80/80 [==============================] - 0s 951us/step - loss: 1.5069 - val_loss: 0.4864\n",
      "Epoch 59/100\n",
      "80/80 [==============================] - 0s 982us/step - loss: 1.5979 - val_loss: 0.5515\n",
      "Epoch 60/100\n",
      "80/80 [==============================] - 0s 967us/step - loss: 1.6280 - val_loss: 0.5517\n",
      "Epoch 61/100\n",
      "80/80 [==============================] - 0s 1ms/step - loss: 1.4149 - val_loss: 0.6611\n",
      "Epoch 62/100\n",
      "80/80 [==============================] - 0s 1ms/step - loss: 1.6208 - val_loss: 0.7559\n",
      "Epoch 63/100\n",
      "80/80 [==============================] - 0s 1ms/step - loss: 1.5078 - val_loss: 0.6351\n",
      "Epoch 64/100\n",
      "80/80 [==============================] - 0s 957us/step - loss: 1.7646 - val_loss: 0.5185\n",
      "Epoch 65/100\n",
      "80/80 [==============================] - 0s 996us/step - loss: 1.6729 - val_loss: 0.9708\n",
      "Epoch 66/100\n",
      "80/80 [==============================] - 0s 934us/step - loss: 1.5999 - val_loss: 0.4403\n",
      "Epoch 67/100\n",
      "80/80 [==============================] - 0s 989us/step - loss: 1.4481 - val_loss: 0.4471\n",
      "Epoch 68/100\n",
      "80/80 [==============================] - 0s 988us/step - loss: 1.3740 - val_loss: 0.6284\n",
      "Epoch 69/100\n",
      "80/80 [==============================] - 0s 890us/step - loss: 1.3910 - val_loss: 1.4504\n",
      "Epoch 70/100\n",
      "80/80 [==============================] - 0s 836us/step - loss: 1.5038 - val_loss: 0.9578\n",
      "Epoch 71/100\n",
      "80/80 [==============================] - 0s 828us/step - loss: 1.4150 - val_loss: 0.5263\n",
      "Epoch 72/100\n",
      "80/80 [==============================] - 0s 806us/step - loss: 1.4632 - val_loss: 0.5419\n",
      "Epoch 73/100\n",
      "80/80 [==============================] - 0s 828us/step - loss: 1.2829 - val_loss: 0.5832\n",
      "Epoch 74/100\n",
      "80/80 [==============================] - 0s 847us/step - loss: 1.4667 - val_loss: 0.4575\n",
      "Epoch 75/100\n",
      "80/80 [==============================] - 0s 861us/step - loss: 1.3085 - val_loss: 0.5444\n",
      "Epoch 76/100\n",
      "80/80 [==============================] - 0s 991us/step - loss: 1.6669 - val_loss: 0.5171\n",
      "Epoch 77/100\n",
      "80/80 [==============================] - 0s 976us/step - loss: 1.5349 - val_loss: 0.5050\n",
      "Epoch 78/100\n",
      "80/80 [==============================] - 0s 869us/step - loss: 1.4611 - val_loss: 0.7997\n",
      "Epoch 79/100\n",
      "80/80 [==============================] - 0s 881us/step - loss: 1.3778 - val_loss: 0.5349\n",
      "Epoch 80/100\n",
      "80/80 [==============================] - 0s 813us/step - loss: 1.7432 - val_loss: 0.4759\n",
      "Epoch 81/100\n"
     ]
    },
    {
     "name": "stdout",
     "output_type": "stream",
     "text": [
      "80/80 [==============================] - 0s 868us/step - loss: 1.4093 - val_loss: 2.4422\n",
      "Epoch 82/100\n",
      "80/80 [==============================] - 0s 959us/step - loss: 1.6083 - val_loss: 0.4862\n",
      "Epoch 83/100\n",
      "80/80 [==============================] - 0s 940us/step - loss: 1.5392 - val_loss: 0.6216\n",
      "Epoch 84/100\n",
      "80/80 [==============================] - 0s 981us/step - loss: 1.3599 - val_loss: 0.4657\n",
      "Epoch 85/100\n",
      "80/80 [==============================] - 0s 917us/step - loss: 1.6507 - val_loss: 0.4684\n",
      "Epoch 86/100\n",
      "80/80 [==============================] - 0s 913us/step - loss: 1.9500 - val_loss: 0.4176\n",
      "Epoch 87/100\n",
      "80/80 [==============================] - 0s 934us/step - loss: 1.4339 - val_loss: 0.6369\n",
      "Epoch 88/100\n",
      "80/80 [==============================] - 0s 825us/step - loss: 3.5066 - val_loss: 0.4308\n",
      "Epoch 89/100\n",
      "80/80 [==============================] - 0s 828us/step - loss: 1.3203 - val_loss: 1.1638\n",
      "Epoch 90/100\n",
      "80/80 [==============================] - 0s 835us/step - loss: 1.3739 - val_loss: 0.6365\n",
      "Epoch 91/100\n",
      "80/80 [==============================] - 0s 828us/step - loss: 1.7465 - val_loss: 0.4923\n",
      "Epoch 92/100\n",
      "80/80 [==============================] - 0s 897us/step - loss: 1.3046 - val_loss: 0.4460\n",
      "Epoch 93/100\n",
      "80/80 [==============================] - 0s 866us/step - loss: 1.4065 - val_loss: 0.4924\n",
      "Epoch 94/100\n",
      "80/80 [==============================] - 0s 839us/step - loss: 1.4738 - val_loss: 0.5272\n",
      "Epoch 95/100\n",
      "80/80 [==============================] - 0s 874us/step - loss: 1.5305 - val_loss: 0.6282\n",
      "Epoch 96/100\n",
      "80/80 [==============================] - 0s 804us/step - loss: 1.4021 - val_loss: 0.6549\n",
      "Epoch 97/100\n",
      "80/80 [==============================] - 0s 881us/step - loss: 3.0518 - val_loss: 1.0438\n",
      "Epoch 98/100\n",
      "80/80 [==============================] - 0s 843us/step - loss: 1.6863 - val_loss: 0.4178\n",
      "Epoch 99/100\n",
      "80/80 [==============================] - 0s 882us/step - loss: 1.3283 - val_loss: 0.8661\n",
      "Epoch 100/100\n",
      "80/80 [==============================] - 0s 806us/step - loss: 1.4544 - val_loss: 0.5825\n"
     ]
    }
   ],
   "source": [
    "neural_model = ann_model(n_nodes1=n_nodes1, n_nodes2=n_nodes2, n_nodes3=n_nodes3,\n",
    "                        dropout=dropout)\n",
    "\n",
    "estop = tf.keras.callbacks.EarlyStopping(monitor='val_loss', \n",
    "                                         patience=100, \n",
    "                                         restore_best_weights=True)\n",
    "\n",
    "lrdecay = tf.keras.callbacks.ReduceLROnPlateau(monitor='val_loss', \n",
    "                                               patience=2)\n",
    "callbacks = [estop, lrdecay]\n",
    "\n",
    "neural_model_history = neural_model.fit(X_train,\n",
    "                                        y_train,\n",
    "                                        epochs=100,\n",
    "                                        batch_size=1,\n",
    "                                        validation_data=(X_val,y_val),\n",
    "                                        verbose=1)#, #callbacks=callbacks)\n",
    "\n"
   ]
  },
  {
   "cell_type": "code",
   "execution_count": 35,
   "metadata": {},
   "outputs": [
    {
     "data": {
      "text/plain": [
       "<matplotlib.legend.Legend at 0x7f04383eda30>"
      ]
     },
     "execution_count": 35,
     "metadata": {},
     "output_type": "execute_result"
    },
    {
     "data": {
      "image/png": "[encoded data removed]",
      "text/plain": [
       "<Figure size 432x288 with 1 Axes>"
      ]
     },
     "metadata": {
      "needs_background": "light"
     },
     "output_type": "display_data"
    }
   ],
   "source": [
    "plt.plot(neural_model_history.history['loss'], color='r', )\n",
    "plt.plot(neural_model_history.history['val_loss'], color='g')\n",
    "\n",
    "\n",
    "plt.ylabel('Mean square error', fontsize=11)\n",
    "plt.xlabel('Epoch', fontsize=11)\n",
    "plt.legend(['training set', 'validation set'], loc='upper right', fontsize=12)"
   ]
  },
  {
   "cell_type": "code",
   "execution_count": 36,
   "metadata": {},
   "outputs": [],
   "source": [
    "# ypred2 = neural_model.predict(X_test)\n",
    "#####\n",
    "# print('Traning and Testing on raw data, all features \\n');\n",
    "#### Model accuracy\n",
    "\n",
    "# print(\"Accuracy:\", metrics.accuracy_score(y_test, ypred2))"
   ]
  },
  {
   "cell_type": "code",
   "execution_count": 37,
   "metadata": {},
   "outputs": [],
   "source": [
    "#zor and yor are the original velues for z and [Hz, err]\n",
    "# x_test_or = xscaler.inverse_transform(X_test)\n",
    "# yor = yscaler.inverse_transform(ypred2.reshape(-1,1))\n",
    "# yor = ypred2"
   ]
  },
  {
   "cell_type": "code",
   "execution_count": 38,
   "metadata": {},
   "outputs": [
    {
     "data": {
      "text/plain": [
       "<matplotlib.legend.Legend at 0x7f04206d51f0>"
      ]
     },
     "execution_count": 38,
     "metadata": {},
     "output_type": "execute_result"
    },
    {
     "data": {
      "image/png": "[encoded data removed]",
      "text/plain": [
       "<Figure size 1000x700 with 1 Axes>"
      ]
     },
     "metadata": {
      "needs_background": "light"
     },
     "output_type": "display_data"
    }
   ],
   "source": [
    "plt.figure(figsize=(10, 7), dpi=100)\n",
    "\n",
    "plt.yscale('log')\n",
    "plt.xscale('log')\n",
    "\n",
    "# LCDM\n",
    "plt.scatter(10**lcdm['log_10(M200c)'], lcdm['n(>M)'], c = 'purple')\n",
    "plt.plot(10**lcdm['log_10(M200c)'], lcdm['n(>M)'], c = 'purple', linewidth=2, label='$\\Lambda$CDM simulation')\n",
    "\n",
    "# Simulacion\n",
    "plt.plot(xsim, ysim, 'r',label='Press-Schechter (1974) ',linewidth=2)\n",
    "\n",
    "# ANN\n",
    "pred = neural_model.predict(xscaler.transform(xsim.reshape(-1,1)))\n",
    "y_predictions = yscaler.inverse_transform(pred.reshape(-1,1))\n",
    "plt.scatter(xsim,y_predictions, c='green')\n",
    "plt.plot(xsim,y_predictions, c='green', label='ANN')\n",
    "\n",
    "plt.xlabel('$M_{vir}$ $[M_\\odot/h]$',fontsize=17)\n",
    "plt.ylabel('$n(>M)$  $[h^3 \\cdot Mpc^{-3}]$',fontsize=15,)\n",
    "\n",
    "plt.legend()\n",
    "# plt.xlim([3.e10,2.e14])\n",
    "# plt.ylim([1.e-6,1.e-1])"
   ]
  },
  {
   "cell_type": "code",
   "execution_count": null,
   "metadata": {},
   "outputs": [],
   "source": []
  },
  {
   "cell_type": "code",
   "execution_count": null,
   "metadata": {},
   "outputs": [],
   "source": []
  },
  {
   "cell_type": "code",
   "execution_count": null,
   "metadata": {},
   "outputs": [],
   "source": []
  },
  {
   "cell_type": "code",
   "execution_count": null,
   "metadata": {},
   "outputs": [],
   "source": []
  },
  {
   "cell_type": "code",
   "execution_count": null,
   "metadata": {},
   "outputs": [],
   "source": []
  },
  {
   "cell_type": "code",
   "execution_count": null,
   "metadata": {},
   "outputs": [],
   "source": []
  }
 ],
 "metadata": {
  "kernelspec": {
   "display_name": "Python 3",
   "language": "python",
   "name": "python3"
  },
  "language_info": {
   "codemirror_mode": {
    "name": "ipython",
    "version": 3
   },
   "file_extension": ".py",
   "mimetype": "text/x-python",
   "name": "python",
   "nbconvert_exporter": "python",
   "pygments_lexer": "ipython3",
   "version": "3.8.10"
  }
 },
 "nbformat": 4,
 "nbformat_minor": 5
}
